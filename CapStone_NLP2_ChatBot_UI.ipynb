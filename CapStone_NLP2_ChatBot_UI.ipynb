{
 "cells": [
  {
   "cell_type": "code",
   "execution_count": 21,
   "id": "7283c846",
   "metadata": {},
   "outputs": [
    {
     "name": "stderr",
     "output_type": "stream",
     "text": [
      "[nltk_data] Downloading package stopwords to\n",
      "[nltk_data]     /home/test_drive_25_09_1976/nltk_data...\n",
      "[nltk_data]   Package stopwords is already up-to-date!\n"
     ]
    }
   ],
   "source": [
    "import nltk\n",
    "from nltk.stem import WordNetLemmatizer\n",
    "\n",
    "from nltk.corpus import stopwords\n",
    "nltk.download('stopwords')\n",
    "stopwords = set(stopwords.words('english'))\n",
    "from nltk.tokenize import word_tokenize\n",
    "import numpy as np\n",
    "import re\n",
    "import json\n",
    "import random\n",
    "import tensorflow_hub as hub\n",
    "import tensorflow_text as text\n",
    "from tensorflow import keras\n",
    "from keras.models import load_model\n",
    "import tkinter\n",
    "from tkinter import *"
   ]
  },
  {
   "cell_type": "code",
   "execution_count": 4,
   "id": "ed6540ad",
   "metadata": {},
   "outputs": [],
   "source": [
    "lemmatizer = WordNetLemmatizer()\n",
    "# Here read the json file\n",
    "intents = json.loads(open('AccidentLevel.json').read())\n",
    "model = load_model('modelBert.h5', custom_objects={'KerasLayer':hub.KerasLayer})"
   ]
  },
  {
   "cell_type": "code",
   "execution_count": 3,
   "id": "44a0f2a3",
   "metadata": {},
   "outputs": [],
   "source": [
    "# Function to load AccidentLevel.json file\n",
    "def loadjson(intents):\n",
    "    dit = {}\n",
    "    tagPattern = {}\n",
    "    tagResponse = {}\n",
    "    for content in intents['intents']:\n",
    "        tag = content['tag']\n",
    "        patrns = content['patterns']\n",
    "        if (patrns == 'I' or patrns == 'II' or patrns == 'III' or patrns == 'IV' or patrns == 'V'):\n",
    "            dit[patrns] = content['responses']\n",
    "        else:\n",
    "            tagPattern[tag] = content['patterns']\n",
    "            tagResponse[tag] = content['responses']\n",
    "    return dit, tagPattern, tagResponse"
   ]
  },
  {
   "cell_type": "code",
   "execution_count": 2,
   "id": "bb4b2f6a",
   "metadata": {},
   "outputs": [],
   "source": [
    "# Function for Data pre-processing or data cleaning\n",
    "def clean_sentences(sentences):\n",
    "    sent = (lambda sentences: re.sub(r'[^A-Za-z]+', ' ', sentences))(sentences)\n",
    "    sent = (lambda sent: sent.lower())(sent)\n",
    "    sent = (lambda sent: sent.strip())(sent)\n",
    "    sent = (lambda sent: re.sub(r'[^\\w\\s]', '', sent))(sent)\n",
    "    sent = (lambda sent: ' '.join([w for w in sent.split() if w not in stopwords]))(sent)\n",
    "    return sent"
   ]
  },
  {
   "cell_type": "code",
   "execution_count": null,
   "id": "7e860e5d",
   "metadata": {},
   "outputs": [],
   "source": [
    "# Function to convert Accident level which is in integer to Roman numbers.\n",
    "def convertIntToCategories(x):\n",
    "    level = (lambda x: ('I' if x == 0 else ('II' if x == 1 else ('III' if x == 2 else ('IV' if x == 3 else 'V')))))(x)\n",
    "    return level"
   ]
  },
  {
   "cell_type": "code",
   "execution_count": null,
   "id": "5fdfbd52",
   "metadata": {},
   "outputs": [],
   "source": [
    "# This function returns Roman numbered accident level.\n",
    "def getAccidentLevel(prediction):\n",
    "    return convertIntToCategories(np.argmax(prediction))"
   ]
  },
  {
   "cell_type": "code",
   "execution_count": null,
   "id": "a7ae946b",
   "metadata": {},
   "outputs": [],
   "source": [
    "# This function anaylses the message. If the message is Intro message or Exit message then it would return bypass value \n",
    "# as True else False. This is done by looking the message in json file. If the message falls in Intro or Exit message patterns \n",
    "# then True is returned along with tag name.\n",
    "def bypassPrediction(msg):\n",
    "    bypass = False\n",
    "    tag = \"\"\n",
    "    for tagPatrn in tagPattern:\n",
    "        patternList = tagPattern.get(tagPatrn)\n",
    "        \n",
    "        if any(patrn == msg.lower() for patrn in patternList):\n",
    "            bypass = True\n",
    "            tag = tagPatrn\n",
    "            break\n",
    "        else:\n",
    "            bypass = False\n",
    "            tag = \"\"\n",
    "    return bypass, tag"
   ]
  },
  {
   "cell_type": "code",
   "execution_count": null,
   "id": "7d381a4a",
   "metadata": {},
   "outputs": [],
   "source": [
    "# This function returns user friendly message which is stored in json file for given accident level.\n",
    "def getResponse(lvl, intents_json):\n",
    "    return intents_json.get(lvl)"
   ]
  },
  {
   "cell_type": "code",
   "execution_count": null,
   "id": "98414b80",
   "metadata": {},
   "outputs": [],
   "source": [
    "# If the message is not among Intro or Exit messages then predict_class method is called. Inside this method clean_sentences\n",
    "# method is invoked which would perform data cleansing on message. Then model.predict method is called which returns an \n",
    "# accident level in integers. The method getAccidentLevel converts accident level from integer to Roman number.\n",
    "def predict_class(sentence, model):\n",
    "    dataList = []\n",
    "    data = clean_sentences(sentence)\n",
    "    dataList.append(data)\n",
    "    pred = model.predict(dataList)[0]\n",
    "    return getAccidentLevel(pred)"
   ]
  },
  {
   "cell_type": "code",
   "execution_count": null,
   "id": "0a56c401",
   "metadata": {},
   "outputs": [],
   "source": [
    "# This function would analyse the message. If the message is Intro message or Exit message then it would directly pickup \n",
    "# the response from AccidentLevel.json file & bypass the model.predict method call. If the message is other than Intro \n",
    "# message or Exit message then model.predict method call is invoked. The message anaylzing part is done in bypassPrediction \n",
    "# method. If bypass value is False then predict_class method is invoked to do model prediction else the response is pulled \n",
    "# from json file.\n",
    "def chatbot_response(msg):\n",
    "    bypass, tag = bypassPrediction(msg)\n",
    "    if (bypass == True):\n",
    "        res = tagResponse.get(tag)[0]\n",
    "    else:\n",
    "        lvl = predict_class(msg, model)\n",
    "        res = getResponse(lvl, dits)\n",
    "    return res"
   ]
  },
  {
   "cell_type": "code",
   "execution_count": null,
   "id": "33783661",
   "metadata": {},
   "outputs": [],
   "source": [
    "# This function is invoked when a user hits send button. This function would invoke chatbot_response function.\n",
    "def send():\n",
    "    msg = EntryBox.get(\"1.0\",'end-1c').strip()\n",
    "    EntryBox.delete(\"0.0\",END)\n",
    "\n",
    "    if msg != '':\n",
    "        ChatLog.config(state=NORMAL)\n",
    "        ChatLog.insert(END, \"You: \" + msg + '\\n\\n')\n",
    "        ChatLog.config(foreground=\"#442265\", font=(\"Verdana\", 12 ))\n",
    "\n",
    "        res = chatbot_response(msg)\n",
    "        ChatLog.insert(END, \"Bot: \" + res + '\\n\\n')\n",
    "\n",
    "        ChatLog.config(state=DISABLED)\n",
    "        ChatLog.yview(END)"
   ]
  },
  {
   "cell_type": "code",
   "execution_count": 25,
   "id": "03fab641",
   "metadata": {},
   "outputs": [],
   "source": [
    "# Routines to create UI using Trinker library\n",
    "base = Tk()\n",
    "base.title(\"ChatBot\")\n",
    "base.geometry(\"400x500\")\n",
    "base.resizable(width=FALSE, height=FALSE)\n",
    "\n",
    "#Create Chat window\n",
    "ChatLog = Text(base, bd=0, bg=\"white\", height=\"8\", width=\"50\", font=\"Arial\",)\n",
    "\n",
    "ChatLog.config(state=DISABLED)\n",
    "\n",
    "#Bind scrollbar to Chat window\n",
    "scrollbar = Scrollbar(base, command=ChatLog.yview, cursor=\"heart\")\n",
    "ChatLog['yscrollcommand'] = scrollbar.set\n",
    "\n",
    "#Create Button to send message\n",
    "SendButton = Button(base, font=(\"Verdana\",12,'bold'), text=\"Send\", width=\"12\", height=5,\n",
    "                    bd=0, bg=\"#32de97\", activebackground=\"#3c9d9b\",fg='#ffffff', command= send)\n",
    "\n",
    "#Create the box to enter message\n",
    "EntryBox = Text(base, bd=0, bg=\"white\",width=\"29\", height=\"5\", font=\"Arial\")\n",
    "\n",
    "#Place all components on the screen\n",
    "scrollbar.place(x=376,y=6, height=386)\n",
    "ChatLog.place(x=6,y=6, height=386, width=370)\n",
    "EntryBox.place(x=128, y=401, height=90, width=265)\n",
    "SendButton.place(x=6, y=401, height=90)\n",
    "\n",
    "base.mainloop()"
   ]
  }
 ],
 "metadata": {
  "kernelspec": {
   "display_name": "Python 3",
   "language": "python",
   "name": "python3"
  },
  "language_info": {
   "codemirror_mode": {
    "name": "ipython",
    "version": 3
   },
   "file_extension": ".py",
   "mimetype": "text/x-python",
   "name": "python",
   "nbconvert_exporter": "python",
   "pygments_lexer": "ipython3",
   "version": "3.7.12"
  }
 },
 "nbformat": 4,
 "nbformat_minor": 5
}
